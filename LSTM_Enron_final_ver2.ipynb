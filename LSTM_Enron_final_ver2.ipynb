{
  "cells": [
    {
      "cell_type": "markdown",
      "metadata": {
        "id": "view-in-github",
        "colab_type": "text"
      },
      "source": [
        "<a href=\"https://colab.research.google.com/github/vin-thomas/Enron_email_classification/blob/main/LSTM_Enron_final_ver2.ipynb\" target=\"_parent\"><img src=\"https://colab.research.google.com/assets/colab-badge.svg\" alt=\"Open In Colab\"/></a>"
      ]
    },
    {
      "cell_type": "markdown",
      "metadata": {
        "id": "WUx4E-r0DBvl"
      },
      "source": [
        "**1.0 Import**"
      ]
    },
    {
      "cell_type": "code",
      "execution_count": 1,
      "metadata": {
        "colab": {
          "base_uri": "https://localhost:8080/"
        },
        "id": "353aMfJgCAxO",
        "outputId": "7cb19de1-73ad-4e68-982b-3918ade6e7d2"
      },
      "outputs": [
        {
          "output_type": "stream",
          "name": "stdout",
          "text": [
            "[nltk_data] Downloading package punkt to /root/nltk_data...\n",
            "[nltk_data]   Unzipping tokenizers/punkt.zip.\n"
          ]
        },
        {
          "output_type": "execute_result",
          "data": {
            "text/plain": [
              "True"
            ]
          },
          "metadata": {},
          "execution_count": 1
        }
      ],
      "source": [
        "import os\n",
        "import numpy as np\n",
        "import pandas as pd\n",
        "import matplotlib.pyplot as plt\n",
        "import nltk\n",
        "import torch\n",
        "import glob\n",
        "from nltk.tokenize import word_tokenize\n",
        "import torch.nn.functional as F\n",
        "nltk.download('punkt')"
      ]
    },
    {
      "cell_type": "code",
      "execution_count": 2,
      "metadata": {
        "colab": {
          "base_uri": "https://localhost:8080/"
        },
        "id": "YuNpjeUIqRNv",
        "outputId": "ff1fb7eb-2a32-4137-dd31-668409450679"
      },
      "outputs": [
        {
          "output_type": "stream",
          "name": "stdout",
          "text": [
            "Mounted at /content/drive\n"
          ]
        }
      ],
      "source": [
        "from google.colab import drive\n",
        "drive.mount('/content/drive')"
      ]
    },
    {
      "cell_type": "code",
      "execution_count": 4,
      "metadata": {
        "id": "7YY45P7WJ61J"
      },
      "outputs": [],
      "source": [
        "df = pd.read_csv('/content/drive/MyDrive/Colab Notebooks/Lstm_enron/enron_csv_1', index_col=[0])"
      ]
    },
    {
      "cell_type": "code",
      "execution_count": 5,
      "metadata": {
        "id": "XKwQO-IcKF_-"
      },
      "outputs": [],
      "source": [
        "import re\n",
        "\n",
        "add_fm = []\n",
        "add_to = []\n",
        "add_cc = []\n",
        "add_bcc = []\n",
        "for item in df.Raw_Text:\n",
        "  fm_emails = re.findall(r\"From: ([a-z0-9\\.\\-+_]+@[a-z0-9\\.\\-+_]+\\.[a-z]+)\", str(item))\n",
        "  to_emails = re.findall(r\"To: ([a-z0-9\\.\\-+_]+@[a-z0-9\\.\\-+_]+\\.[a-z]+)\", str(item))\n",
        "  cc_emails = re.findall(r\"Cc: ([a-z0-9\\.\\-+_]+@[a-z0-9\\.\\-+_]+\\.[a-z]+)\", str(item))\n",
        "  bcc_emails = re.findall(r\"Bcc: ([a-z0-9\\.\\-+_]+@[a-z0-9\\.\\-+_]+\\.[a-z]+)\", str(item))\n",
        "  if fm_emails:\n",
        "    add_fm.append(fm_emails[0])\n",
        "  else:\n",
        "    add_fm.append(1000)\n",
        "  if to_emails:\n",
        "    add_to.append(to_emails[0])\n",
        "  else:\n",
        "    add_to.append(1000)\n",
        "  if cc_emails:\n",
        "    add_cc.append(cc_emails[0])\n",
        "  else:\n",
        "    add_cc.append(1000)\n",
        "  if bcc_emails:\n",
        "    add_bcc.append(bcc_emails[0])\n",
        "  else:\n",
        "    add_bcc.append(1000)  "
      ]
    },
    {
      "cell_type": "code",
      "execution_count": 6,
      "metadata": {
        "id": "XFJHUFcJKY2-"
      },
      "outputs": [],
      "source": [
        "df['From']= add_fm\n",
        "df['To']= add_to\n",
        "df['CC']= add_cc\n",
        "df['BCC']= add_bcc"
      ]
    },
    {
      "cell_type": "markdown",
      "metadata": {
        "id": "JJ4eQZKjKlIj"
      },
      "source": [
        "##**Extracting Subject**"
      ]
    },
    {
      "cell_type": "code",
      "execution_count": 7,
      "metadata": {
        "id": "SWunb42yNU8c"
      },
      "outputs": [],
      "source": [
        "item_list = []\n",
        "for item in df.Raw_Text:\n",
        "  item = re.sub(r'[a-z0-9\\.\\-+_]+@[a-z0-9\\.\\-+_]+\\.[a-z]+', '', item)\n",
        "  item_list.append(item)"
      ]
    },
    {
      "cell_type": "code",
      "execution_count": 8,
      "metadata": {
        "colab": {
          "base_uri": "https://localhost:8080/"
        },
        "id": "zHuvlBWRpocG",
        "outputId": "25437928-2a16-4dc8-edf1-8962bc7579aa"
      },
      "outputs": [
        {
          "output_type": "execute_result",
          "data": {
            "text/plain": [
              "517401"
            ]
          },
          "metadata": {},
          "execution_count": 8
        }
      ],
      "source": [
        "len(item_list)"
      ]
    },
    {
      "cell_type": "code",
      "execution_count": 9,
      "metadata": {
        "id": "L12ovRSQKkPp"
      },
      "outputs": [],
      "source": [
        "def preprocess_text(text):\n",
        "    text = text.lower()\n",
        "    text = re.sub(r'\\d+', '', text)\n",
        "    text = re.sub(r'\\\\', '', text)\n",
        "    text = re.sub(r'\\\\n', '', text)\n",
        "    text = re.sub(r'-', '', text)\n",
        "    text = re.sub(r'=', '', text)\n",
        "    text = re.sub(r'/', '', text)\n",
        "    return text"
      ]
    },
    {
      "cell_type": "code",
      "execution_count": 10,
      "metadata": {
        "id": "hb1iR8s1Kt94"
      },
      "outputs": [],
      "source": [
        "subject_email = []\n",
        "\n",
        "for item in item_list:\n",
        "  subject = re.findall(r\"Subject: ([^\\\\]*)\", str(item))\n",
        "  subject = preprocess_text(subject[0])\n",
        "  word_list = subject.split(' ')\n",
        "  if len(word_list)>10:\n",
        "    word_list = word_list[:10]\n",
        "  subject = \" \".join(word_list)\n",
        "  subject_email.append(subject)"
      ]
    },
    {
      "cell_type": "code",
      "execution_count": 11,
      "metadata": {
        "id": "xQjUjaszKwy_"
      },
      "outputs": [],
      "source": [
        "df['Subject']= subject_email"
      ]
    },
    {
      "cell_type": "markdown",
      "metadata": {
        "id": "KiEnuj8jK2kU"
      },
      "source": [
        "##**Extracting Body**"
      ]
    },
    {
      "cell_type": "code",
      "execution_count": 12,
      "metadata": {
        "id": "768ePDK5K4zi"
      },
      "outputs": [],
      "source": [
        "body_email =[]\n",
        "for item in item_list:\n",
        "  body = re.findall (r\"FileName:([\\s\\S]*)$\", str(item))\n",
        "  body = preprocess_text(body[0])\n",
        "  word_list = body.split(' ')\n",
        "  if len(word_list)>90:\n",
        "    word_list = word_list[1:90]\n",
        "  word_list = \" \".join(word_list)\n",
        "  body_email.append(word_list)"
      ]
    },
    {
      "cell_type": "code",
      "execution_count": 13,
      "metadata": {
        "id": "CkRk08tCr4OM"
      },
      "outputs": [],
      "source": [
        "df['Body']= body_email"
      ]
    },
    {
      "cell_type": "code",
      "execution_count": 14,
      "metadata": {
        "id": "dyW7laByK8LK"
      },
      "outputs": [],
      "source": [
        "df_final = df.drop(['Raw_Text'], axis=1)\n",
        "df_final= df_final.drop_duplicates(subset=['Body', 'From'])\n",
        "df_final = df_final[df_final.Folder != 'all_documents']\n",
        "df_final = df_final[df_final.Folder != 'deleted_items']\n",
        "df_final = df_final[df_final.Body != 'na']\n",
        "df_final['Text']= df_final['Body']+' '+ df_final['Subject']\n",
        "df_final.drop(['Subject', 'Body'], axis=1, inplace= True)\n",
        "df_final['from_id']= df_final['From'].factorize()[0]\n",
        "df_final['to_id']= df_final['To'].factorize()[0]\n",
        "df_final['cc_id']= df_final['CC'].factorize()[0]\n",
        "df_final['bcc_id']= df_final['BCC'].factorize()[0]\n",
        "df_final['folder']= df_final['Folder'].factorize()[0]\n",
        "df_final['name']= df_final['Name'].factorize()[0]\n",
        "df_final.drop(['Name', 'Folder', 'From', 'To', 'CC', 'BCC'], axis=1, inplace= True)\n",
        "df_lstm= df_final\n",
        "df_lstm= df_lstm.reset_index(drop=True)\n",
        "\n",
        "df_lstm = df_lstm[[\"Text\", \"from_id\", \"to_id\", \"cc_id\", \"bcc_id\", \"name\", \"folder\"]]\n",
        "df_addl = df_lstm[['name', 'from_id', 'to_id', 'cc_id', 'bcc_id']]"
      ]
    },
    {
      "cell_type": "code",
      "source": [
        "from sklearn.preprocessing import StandardScaler\n",
        "\n",
        "scaler = StandardScaler()  \n",
        "\n",
        "df_addl = scaler.fit_transform(df_addl)"
      ],
      "metadata": {
        "id": "POp4A2peuOuP"
      },
      "execution_count": 15,
      "outputs": []
    },
    {
      "cell_type": "code",
      "execution_count": 16,
      "metadata": {
        "colab": {
          "base_uri": "https://localhost:8080/"
        },
        "id": "a25aBFlHpvrg",
        "outputId": "6d160de0-9cf6-4c76-c082-8383f2f709d6"
      },
      "outputs": [
        {
          "output_type": "stream",
          "name": "stdout",
          "text": [
            "Text       205201\n",
            "from_id     15295\n",
            "to_id       16055\n",
            "cc_id        7095\n",
            "bcc_id       6972\n",
            "name          225\n",
            "folder       1328\n",
            "dtype: int64\n"
          ]
        }
      ],
      "source": [
        "print(df_lstm.nunique())"
      ]
    },
    {
      "cell_type": "code",
      "execution_count": 17,
      "metadata": {
        "id": "g8M_jmQRLoma"
      },
      "outputs": [],
      "source": [
        "labels= df_lstm.folder\n",
        "content = df_lstm.Text"
      ]
    },
    {
      "cell_type": "code",
      "execution_count": 18,
      "metadata": {
        "colab": {
          "base_uri": "https://localhost:8080/"
        },
        "id": "RrbDHqC5OLqy",
        "outputId": "0ff915d5-7ccd-4cf0-ff42-6b825bf3b90a"
      },
      "outputs": [
        {
          "output_type": "execute_result",
          "data": {
            "text/plain": [
              "(pandas.core.series.Series, 205369, pandas.core.series.Series, 205369)"
            ]
          },
          "metadata": {},
          "execution_count": 18
        }
      ],
      "source": [
        "type(labels), len(labels), type(content), len(content)"
      ]
    },
    {
      "cell_type": "code",
      "execution_count": 19,
      "metadata": {
        "colab": {
          "base_uri": "https://localhost:8080/"
        },
        "id": "dupb3hGzTLKp",
        "outputId": "964cb8d2-bab3-4a58-f49b-340b16f36e2e"
      },
      "outputs": [
        {
          "output_type": "execute_result",
          "data": {
            "text/plain": [
              "1328"
            ]
          },
          "metadata": {},
          "execution_count": 19
        }
      ],
      "source": [
        "len(labels.unique())"
      ]
    },
    {
      "cell_type": "markdown",
      "metadata": {
        "id": "XBumyr4Uszre"
      },
      "source": [
        "##**4.0 Prepare a word index, dictionary**"
      ]
    },
    {
      "cell_type": "code",
      "execution_count": 20,
      "metadata": {
        "colab": {
          "base_uri": "https://localhost:8080/"
        },
        "id": "8-UidBXu-Xep",
        "outputId": "59c8e068-0df4-4f7e-cfee-00c8c6a0f3de"
      },
      "outputs": [
        {
          "output_type": "stream",
          "name": "stdout",
          "text": [
            "17940279 526277\n"
          ]
        }
      ],
      "source": [
        "word2idx= {}\n",
        "idx = 0\n",
        "n_l = []\n",
        "news_len =0\n",
        "i=0\n",
        "\n",
        "for item in content:\n",
        "  word_list = word_tokenize(str(item))\n",
        "  n_l.append(len(word_list))\n",
        "  for word in word_list:\n",
        "    i+=1\n",
        "    if word not in word2idx:\n",
        "      word2idx[word]= idx\n",
        "      idx += 1\n",
        "      \n",
        "print (i, idx)"
      ]
    },
    {
      "cell_type": "code",
      "source": [
        "df_addl.shape"
      ],
      "metadata": {
        "colab": {
          "base_uri": "https://localhost:8080/"
        },
        "id": "plSgJOfpOi-S",
        "outputId": "0dba2ab8-74fa-4356-99cd-6e9dce0e468b"
      },
      "execution_count": 21,
      "outputs": [
        {
          "output_type": "execute_result",
          "data": {
            "text/plain": [
              "(205369, 5)"
            ]
          },
          "metadata": {},
          "execution_count": 21
        }
      ]
    },
    {
      "cell_type": "code",
      "execution_count": 22,
      "metadata": {
        "id": "dQWidJbtteFf"
      },
      "outputs": [],
      "source": [
        "max_len_article = max(n_l)\n",
        "no_of_articles= len(content)"
      ]
    },
    {
      "cell_type": "code",
      "execution_count": 23,
      "metadata": {
        "colab": {
          "base_uri": "https://localhost:8080/"
        },
        "id": "_TtNcmPqt77W",
        "outputId": "ea3f08c0-7746-4b43-b990-ad6988f33059"
      },
      "outputs": [
        {
          "output_type": "execute_result",
          "data": {
            "text/plain": [
              "(205369, 100)"
            ]
          },
          "metadata": {},
          "execution_count": 23
        }
      ],
      "source": [
        "dataset = np.zeros((no_of_articles, 100), dtype= int)\n",
        "dataset.shape"
      ]
    },
    {
      "cell_type": "code",
      "execution_count": 24,
      "metadata": {
        "id": "k1YWUkzzvGO2"
      },
      "outputs": [],
      "source": [
        "i=0\n",
        "idx_list=[]\n",
        "for item in content:\n",
        "  word_list= word_tokenize(str(item))\n",
        "  for token in word_list:\n",
        "    if word2idx.get(token) is not None:\n",
        "      idx = word2idx.get(token)\n",
        "    else:\n",
        "      idx= 0\n",
        "    idx_list.append(idx)\n",
        "  pad_list = [0]*(max_len_article- len(idx_list))\n",
        "  idx_list = idx_list + pad_list\n",
        "  dataset[i]= idx_list[0:100]\n",
        "  idx_list=[]\n",
        "  i+=1\n",
        " \n"
      ]
    },
    {
      "cell_type": "code",
      "execution_count": 25,
      "metadata": {
        "id": "lQlaf4XmbVfJ"
      },
      "outputs": [],
      "source": [
        "dataset= torch.tensor(dataset)"
      ]
    },
    {
      "cell_type": "code",
      "execution_count": 26,
      "metadata": {
        "colab": {
          "base_uri": "https://localhost:8080/"
        },
        "id": "kP2jNA2qbHDr",
        "outputId": "b4f91b80-5fbf-428a-84f4-04804314735a"
      },
      "outputs": [
        {
          "output_type": "execute_result",
          "data": {
            "text/plain": [
              "torch.Size([205369, 100])"
            ]
          },
          "metadata": {},
          "execution_count": 26
        }
      ],
      "source": [
        "dataset.shape"
      ]
    },
    {
      "cell_type": "markdown",
      "metadata": {
        "id": "az_fGfIPCYSW"
      },
      "source": [
        "####**5.0 DownLoad the pretrained vectors**"
      ]
    },
    {
      "cell_type": "code",
      "execution_count": 27,
      "metadata": {
        "colab": {
          "base_uri": "https://localhost:8080/"
        },
        "id": "NKXjSKIgCXlB",
        "outputId": "ef0dd8ca-569d-4b5e-8b89-5967690879fa"
      },
      "outputs": [
        {
          "output_type": "stream",
          "name": "stdout",
          "text": [
            "--2022-02-25 15:26:39--  https://dl.fbaipublicfiles.com/fasttext/vectors-english/crawl-300d-2M.vec.zip\n",
            "Resolving dl.fbaipublicfiles.com (dl.fbaipublicfiles.com)... 104.22.74.142, 104.22.75.142, 172.67.9.4, ...\n",
            "Connecting to dl.fbaipublicfiles.com (dl.fbaipublicfiles.com)|104.22.74.142|:443... connected.\n",
            "HTTP request sent, awaiting response... 200 OK\n",
            "Length: 1523785255 (1.4G) [application/zip]\n",
            "Saving to: ‘fastText/crawl-300d-2M.vec.zip’\n",
            "\n",
            "crawl-300d-2M.vec.z 100%[===================>]   1.42G  39.4MB/s    in 36s     \n",
            "\n",
            "2022-02-25 15:27:16 (40.1 MB/s) - ‘fastText/crawl-300d-2M.vec.zip’ saved [1523785255/1523785255]\n",
            "\n",
            "Archive:  fastText/crawl-300d-2M.vec.zip\n",
            "  inflating: fastText/crawl-300d-2M.vec  \n"
          ]
        }
      ],
      "source": [
        "URL = \"https://dl.fbaipublicfiles.com/fasttext/vectors-english/crawl-300d-2M.vec.zip\"\n",
        "FILE = \"fastText\"\n",
        "!wget -P $FILE $URL\n",
        "!unzip $FILE/crawl-300d-2M.vec.zip -d $FILE"
      ]
    },
    {
      "cell_type": "markdown",
      "metadata": {
        "id": "dM9k33G2D1Lq"
      },
      "source": [
        "###**6.0 Load the pre-trained vectors and create the embedding matrix**"
      ]
    },
    {
      "cell_type": "code",
      "execution_count": 28,
      "metadata": {
        "id": "76xyIra75_dP"
      },
      "outputs": [],
      "source": [
        "fin = open('/content/fastText/crawl-300d-2M.vec', 'r', encoding='utf-8', newline='\\n', errors='ignore')\n",
        "n, d = map(int, fin.readline().split())"
      ]
    },
    {
      "cell_type": "code",
      "execution_count": 29,
      "metadata": {
        "id": "JF1fB4Up1t7x",
        "colab": {
          "base_uri": "https://localhost:8080/"
        },
        "outputId": "3bb26f39-f1b0-4744-8691-140ea3c974f3"
      },
      "outputs": [
        {
          "output_type": "execute_result",
          "data": {
            "text/plain": [
              "526277"
            ]
          },
          "metadata": {},
          "execution_count": 29
        }
      ],
      "source": [
        "len(word2idx)"
      ]
    },
    {
      "cell_type": "code",
      "execution_count": 30,
      "metadata": {
        "id": "JAqpB50VF_4d"
      },
      "outputs": [],
      "source": [
        "embeddings = np.random.uniform(-0.25, 0.25, (len(word2idx), d))"
      ]
    },
    {
      "cell_type": "code",
      "execution_count": 31,
      "metadata": {
        "id": "GUJQIp4fCtpk"
      },
      "outputs": [],
      "source": [
        "count =0\n",
        "for line in fin:\n",
        "  tokens = line.rstrip().split(' ')\n",
        "  word = tokens[0]\n",
        "  if word in word2idx:\n",
        "    embeddings[word2idx[word]] = np.array(tokens[1:], dtype=np.float32)"
      ]
    },
    {
      "cell_type": "code",
      "execution_count": 32,
      "metadata": {
        "id": "VnGvFrZ-EzBq"
      },
      "outputs": [],
      "source": [
        "embeddings= torch.tensor(embeddings)"
      ]
    },
    {
      "cell_type": "markdown",
      "metadata": {
        "id": "EfSylroUKqA0"
      },
      "source": [
        "Now we have an embedding array wich has the vector for each word in our dictionary. Further, we have 'dataset' which gives the word index for each article"
      ]
    },
    {
      "cell_type": "markdown",
      "metadata": {
        "id": "-7pwPiJn81q_"
      },
      "source": [
        "###**7.0 Create Pytorch Dataloaders**"
      ]
    },
    {
      "cell_type": "code",
      "execution_count": 33,
      "metadata": {
        "id": "ja01f73FLrBO"
      },
      "outputs": [],
      "source": [
        "labels, uniques = pd.factorize(labels)"
      ]
    },
    {
      "cell_type": "code",
      "execution_count": 34,
      "metadata": {
        "id": "tLYT5z14IKDk",
        "colab": {
          "base_uri": "https://localhost:8080/"
        },
        "outputId": "6a23853a-105e-44da-8626-39a1ea49f648"
      },
      "outputs": [
        {
          "output_type": "execute_result",
          "data": {
            "text/plain": [
              "1328"
            ]
          },
          "metadata": {},
          "execution_count": 34
        }
      ],
      "source": [
        "len(np.unique(labels))"
      ]
    },
    {
      "cell_type": "code",
      "execution_count": 35,
      "metadata": {
        "id": "mQPqI2dpzaUe"
      },
      "outputs": [],
      "source": [
        "labels = torch.from_numpy(labels)"
      ]
    },
    {
      "cell_type": "code",
      "execution_count": 36,
      "metadata": {
        "id": "1oWhDO5qzyTH",
        "colab": {
          "base_uri": "https://localhost:8080/"
        },
        "outputId": "1a796503-0bcf-4c57-f6fe-b31fe5523332"
      },
      "outputs": [
        {
          "output_type": "execute_result",
          "data": {
            "text/plain": [
              "(torch.Size([205369, 100]), torch.Size([205369]))"
            ]
          },
          "metadata": {},
          "execution_count": 36
        }
      ],
      "source": [
        "dataset.shape, labels.shape"
      ]
    },
    {
      "cell_type": "code",
      "execution_count": 37,
      "metadata": {
        "id": "2dZtFV1xsMG1"
      },
      "outputs": [],
      "source": [
        "dataset_= df_lstm.drop(['Text', 'folder'], axis=1)"
      ]
    },
    {
      "cell_type": "code",
      "execution_count": 38,
      "metadata": {
        "id": "ufgd0eahVVgh",
        "colab": {
          "base_uri": "https://localhost:8080/"
        },
        "outputId": "6e368b5c-43f9-4218-ee57-ced948e34bc4"
      },
      "outputs": [
        {
          "output_type": "execute_result",
          "data": {
            "text/plain": [
              "(torch.Tensor,\n",
              " pandas.core.frame.DataFrame,\n",
              " torch.Size([205369, 100]),\n",
              " (205369, 5))"
            ]
          },
          "metadata": {},
          "execution_count": 38
        }
      ],
      "source": [
        "type(dataset), type(dataset_), dataset.shape, dataset_.shape"
      ]
    },
    {
      "cell_type": "code",
      "source": [
        "df_addl= torch.Tensor(df_addl)"
      ],
      "metadata": {
        "id": "SHXbiRYcQG6i"
      },
      "execution_count": 39,
      "outputs": []
    },
    {
      "cell_type": "code",
      "source": [
        "type(df_addl)"
      ],
      "metadata": {
        "id": "C4bJYxcaQkI0",
        "colab": {
          "base_uri": "https://localhost:8080/"
        },
        "outputId": "77af6770-a937-4767-fae7-fdc875197171"
      },
      "execution_count": 40,
      "outputs": [
        {
          "output_type": "execute_result",
          "data": {
            "text/plain": [
              "torch.Tensor"
            ]
          },
          "metadata": {},
          "execution_count": 40
        }
      ]
    },
    {
      "cell_type": "code",
      "source": [
        "dataset.shape, labels.shape, df_addl.shape"
      ],
      "metadata": {
        "id": "rlVas1mfu27M",
        "colab": {
          "base_uri": "https://localhost:8080/"
        },
        "outputId": "738c9b3b-0617-448b-d5cf-b46018422eb6"
      },
      "execution_count": 41,
      "outputs": [
        {
          "output_type": "execute_result",
          "data": {
            "text/plain": [
              "(torch.Size([205369, 100]), torch.Size([205369]), torch.Size([205369, 5]))"
            ]
          },
          "metadata": {},
          "execution_count": 41
        }
      ]
    },
    {
      "cell_type": "code",
      "execution_count": 42,
      "metadata": {
        "id": "QSRzd-a4_Rov"
      },
      "outputs": [],
      "source": [
        "from sklearn.model_selection import train_test_split\n",
        "\n",
        "# Train Test Split\n",
        "train_inputs, val_inputs, train_labels, val_labels, train_addl, val_addl = train_test_split(dataset, labels, df_addl, test_size=0.1, random_state=42)"
      ]
    },
    {
      "cell_type": "code",
      "execution_count": 43,
      "metadata": {
        "id": "GElTJZYANoYd"
      },
      "outputs": [],
      "source": [
        "from torch.utils.data import (TensorDataset, DataLoader, RandomSampler,\n",
        "                              SequentialSampler)\n",
        "\n",
        "\n",
        "batch_size=100\n",
        "\n",
        "# Create DataLoader for training data\n",
        "train_data = TensorDataset(train_inputs, train_addl, train_labels)\n",
        "train_sampler = RandomSampler(train_data)\n",
        "train_dataloader = DataLoader(train_data, sampler=train_sampler, batch_size=batch_size)\n",
        "\n",
        "# Create DataLoader for validation data\n",
        "val_data = TensorDataset(val_inputs, val_addl, val_labels)\n",
        "val_sampler = SequentialSampler(val_data)\n",
        "val_dataloader = DataLoader(val_data, sampler=val_sampler, batch_size=100)\n"
      ]
    },
    {
      "cell_type": "markdown",
      "metadata": {
        "id": "i5nHWuIP0TYg"
      },
      "source": [
        "##**8.Device**"
      ]
    },
    {
      "cell_type": "code",
      "execution_count": 44,
      "metadata": {
        "id": "282xUtFF2MEN",
        "colab": {
          "base_uri": "https://localhost:8080/"
        },
        "outputId": "2d272d02-cf14-4445-828f-f4addfd5af41"
      },
      "outputs": [
        {
          "output_type": "stream",
          "name": "stdout",
          "text": [
            "There are 1 GPU(s) available.\n",
            "Device name: Tesla K80\n"
          ]
        }
      ],
      "source": [
        "if torch.cuda.is_available():       \n",
        "    device = torch.device(\"cuda\")\n",
        "    print(f'There are {torch.cuda.device_count()} GPU(s) available.')\n",
        "    print('Device name:', torch.cuda.get_device_name(0))\n",
        "\n",
        "else:\n",
        "    print('No GPU available, using the CPU instead.')\n",
        "    device = torch.device(\"cpu\")"
      ]
    },
    {
      "cell_type": "code",
      "execution_count": 45,
      "metadata": {
        "id": "YHUvLUhOCdTf",
        "colab": {
          "base_uri": "https://localhost:8080/"
        },
        "outputId": "b8076034-b12e-4a6a-a142-587123dce364"
      },
      "outputs": [
        {
          "output_type": "execute_result",
          "data": {
            "text/plain": [
              "1328"
            ]
          },
          "metadata": {},
          "execution_count": 45
        }
      ],
      "source": [
        "len (labels.unique())"
      ]
    },
    {
      "cell_type": "markdown",
      "metadata": {
        "id": "SlyHEG4XPmFB"
      },
      "source": [
        "##**8. LSTM Model Architecture**"
      ]
    },
    {
      "cell_type": "code",
      "execution_count": 46,
      "metadata": {
        "id": "flKn6j0RPa4y"
      },
      "outputs": [],
      "source": [
        "import torch\n",
        "import torch.nn as nn\n",
        "import torch.nn.functional as F"
      ]
    },
    {
      "cell_type": "code",
      "execution_count": 47,
      "metadata": {
        "id": "UkPC7E1srblJ"
      },
      "outputs": [],
      "source": [
        "class LSTM(nn.Module):\n",
        "  def __init__(self,\n",
        "               pretrained_embedding,\n",
        "               ):\n",
        "\n",
        "      super(LSTM, self).__init__()\n",
        "      self.embedding = nn.Embedding.from_pretrained(pretrained_embedding, freeze=False)\n",
        "\n",
        "      self.lstm= nn.LSTM(input_size= 300, hidden_size= 1600, num_layers=2, batch_first= True)\n",
        "\n",
        "      self.fc1 = nn.Linear(1605, 1200)\n",
        "      self.fc2 = nn.Linear(1200, len(labels.unique()))\n",
        "              \n",
        "    \n",
        "  def forward(self, dataset, addl_features):\n",
        "\n",
        "    x_embed = self.embedding(dataset).float()\n",
        "    \n",
        "    x, _ = self.lstm(x_embed)\n",
        "    \n",
        "    x = x[:, -1, :]\n",
        "    x = torch.cat((x, addl_features), -1)\n",
        "    x = self.fc1(x)\n",
        "    x = F.relu(x)\n",
        "    x = self.fc2(x)\n",
        "    \n",
        "    logits = x\n",
        "    \n",
        "    return logits\n",
        "\n"
      ]
    },
    {
      "cell_type": "markdown",
      "metadata": {
        "id": "_6PRJFIDVAmG"
      },
      "source": [
        "##**9. Instatiate the CNN Model**"
      ]
    },
    {
      "cell_type": "code",
      "execution_count": 48,
      "metadata": {
        "id": "pHQHMQmM0LT4",
        "colab": {
          "base_uri": "https://localhost:8080/"
        },
        "outputId": "6a54ae4d-5714-4529-9513-24e03e7d7235"
      },
      "outputs": [
        {
          "output_type": "execute_result",
          "data": {
            "text/plain": [
              "LSTM(\n",
              "  (embedding): Embedding(526277, 300)\n",
              "  (lstm): LSTM(300, 1600, num_layers=2, batch_first=True)\n",
              "  (fc1): Linear(in_features=1605, out_features=1200, bias=True)\n",
              "  (fc2): Linear(in_features=1200, out_features=1328, bias=True)\n",
              ")"
            ]
          },
          "metadata": {},
          "execution_count": 48
        }
      ],
      "source": [
        "model = LSTM(embeddings)\n",
        "model = model.to(device)\n",
        "model"
      ]
    },
    {
      "cell_type": "markdown",
      "metadata": {
        "id": "GQcIqcvTT86_"
      },
      "source": [
        "##**9.  Optimizer and Loss Function**"
      ]
    },
    {
      "cell_type": "code",
      "execution_count": 49,
      "metadata": {
        "id": "a1hOPqFf1oNv"
      },
      "outputs": [],
      "source": [
        "import torch.optim as optim\n",
        "\n",
        "# Instantiate Adadelta optimizer\n",
        "optimizer = torch.optim.Adam(model.parameters(), lr=.001)\n",
        "#optimizer = torch.optim.SGD(model.parameters(), lr = 0.01)\n",
        "criterion = torch.nn.CrossEntropyLoss()"
      ]
    },
    {
      "cell_type": "markdown",
      "metadata": {
        "id": "Z7LtPbo9_qMQ"
      },
      "source": [
        "##**10. Train**"
      ]
    },
    {
      "cell_type": "code",
      "execution_count": 51,
      "metadata": {
        "id": "o8OOXvsX_ofN",
        "colab": {
          "base_uri": "https://localhost:8080/"
        },
        "outputId": "a4f2ca44-04aa-4529-ffb7-c8ccf88ed620"
      },
      "outputs": [
        {
          "output_type": "stream",
          "name": "stdout",
          "text": [
            "100 ) 2.661013126373291 28\n",
            "200 ) 3.3012735843658447 23\n",
            "300 ) 2.634281873703003 26\n",
            "400 ) 2.7715258598327637 27\n",
            "500 ) 2.416825294494629 37\n",
            "600 ) 1.9499560594558716 51\n",
            "700 ) 1.9566622972488403 45\n",
            "800 ) 2.1031908988952637 51\n",
            "900 ) 1.724514126777649 61\n",
            "1000 ) 1.642729640007019 57\n",
            "1100 ) 2.1609277725219727 49\n",
            "1200 ) 1.57268488407135 56\n",
            "1300 ) 1.5658667087554932 62\n",
            "1400 ) 1.9144330024719238 56\n",
            "1500 ) 1.6856536865234375 61\n",
            "1600 ) 1.5076295137405396 61\n",
            "1700 ) 1.6276897192001343 64\n",
            "1800 ) 1.484307885169983 62\n",
            "epoch: 1, Train Loss:0.021173 Train Accuracy: 46.72\n",
            "100 ) 1.3377165794372559 60\n",
            "200 ) 1.5658842325210571 58\n",
            "300 ) 1.7810275554656982 58\n",
            "400 ) 1.2384281158447266 66\n",
            "500 ) 1.4753330945968628 63\n",
            "600 ) 1.247660756111145 69\n",
            "700 ) 1.7598727941513062 64\n",
            "800 ) 1.4420987367630005 59\n",
            "900 ) 1.0665642023086548 66\n",
            "1000 ) 1.5521366596221924 57\n",
            "1100 ) 1.1566182374954224 69\n",
            "1200 ) 1.3794467449188232 62\n",
            "1300 ) 1.1182892322540283 68\n",
            "1400 ) 1.5634443759918213 68\n",
            "1500 ) 1.3113431930541992 65\n",
            "1600 ) 1.3582671880722046 64\n",
            "1700 ) 1.2021054029464722 70\n",
            "1800 ) 0.9754340648651123 75\n",
            "epoch: 2, Train Loss:0.013195 Train Accuracy: 64.72\n",
            "100 ) 0.7615653872489929 75\n",
            "200 ) 1.0765925645828247 69\n",
            "300 ) 1.1802608966827393 66\n",
            "400 ) 1.0769567489624023 72\n",
            "500 ) 1.4757049083709717 66\n",
            "600 ) 0.8862154483795166 75\n",
            "700 ) 0.9494574666023254 75\n",
            "800 ) 1.0386793613433838 74\n",
            "900 ) 1.0559682846069336 71\n",
            "1000 ) 0.8053999543190002 78\n",
            "1100 ) 0.8893435597419739 73\n",
            "1200 ) 0.7566060423851013 77\n",
            "1300 ) 1.194959282875061 65\n",
            "1400 ) 0.9596085548400879 73\n",
            "1500 ) 0.8696346282958984 80\n",
            "1600 ) 0.9361321330070496 75\n",
            "1700 ) 0.7267105579376221 78\n",
            "1800 ) 1.2146755456924438 67\n",
            "epoch: 3, Train Loss:0.010327 Train Accuracy: 72.12\n"
          ]
        }
      ],
      "source": [
        "# No of Epochs\n",
        "epoch = 3\n",
        "\n",
        "# keeping the network in train mode\n",
        "model.train()\n",
        "train_losses,  train_accuracy = [], []\n",
        "\n",
        "# Loop for no of epochs\n",
        "for e in range(epoch):\n",
        "    train_loss = 0\n",
        "    correct = 0\n",
        "    # Iterate through all the batches in each epoch\n",
        "    i=0\n",
        "    for inputs, addl_inputs, labels in train_dataloader:\n",
        "      \n",
        "      i+=1\n",
        "      # Convert the image and label to gpu for faster execution\n",
        "      inputs = inputs.to(device).to(torch.int64)\n",
        "      addl_inputs= addl_inputs.to(device).to(torch.int64)\n",
        "       \n",
        "      labels = labels.to(device)\n",
        "          \n",
        "      # Zero the parameter gradients\n",
        "      optimizer.zero_grad()\n",
        "      \n",
        "      # Passing the data to the model (Forward Pass)\n",
        "      outputs = model(inputs, addl_inputs)\n",
        "\n",
        "                \n",
        "      # Calculating the loss\n",
        "      loss = criterion(outputs, labels)\n",
        "      train_loss += loss.item()\n",
        "\n",
        "      # Performing backward pass (Backpropagation)\n",
        "      loss.backward()\n",
        "\n",
        "      # optimizer.step() updates the weights accordingly\n",
        "      optimizer.step()\n",
        "\n",
        "      _, predicted = torch.max(outputs, 1)\n",
        "      correct += (predicted == labels).sum().item()\n",
        "      if i%100==0:\n",
        "        print(i, ')', loss.item(), (predicted == labels).sum().item())\n",
        "      \n",
        "     \n",
        "    # Accuracy calculation\n",
        "    \n",
        "    train_losses.append(train_loss/len (train_data))\n",
        "    train_accuracy.append(100 * correct/len(train_data))\n",
        "    print('epoch: {}, Train Loss:{:.6f} Train Accuracy: {:.2f}'.format(e+1,train_losses[-1], train_accuracy[-1]))"
      ]
    },
    {
      "cell_type": "code",
      "execution_count": 52,
      "metadata": {
        "id": "tO94CX49beIX",
        "colab": {
          "base_uri": "https://localhost:8080/"
        },
        "outputId": "bd0e53c3-99ff-43d9-c40d-4fbac3d4e998"
      },
      "outputs": [
        {
          "output_type": "stream",
          "name": "stdout",
          "text": [
            "1.108541460581196 71.47559695617949\n"
          ]
        }
      ],
      "source": [
        "\n",
        "eval_model = model\n",
        "eval_model.eval\n",
        "val_accuracy = []\n",
        "val_loss = []\n",
        "\n",
        "for inputs, addl_inputs, labels in val_dataloader:\n",
        "  inputs = inputs.to(device).to(torch.int64)\n",
        "  addl_inputs= addl_inputs.to(device).to(torch.int64)\n",
        "  labels = labels.to(device)\n",
        "  logits = eval_model(inputs, addl_inputs)\n",
        "  \n",
        "  loss = criterion (logits, labels)\n",
        "  val_loss.append(loss.item())\n",
        "  _, predicted = torch.max(logits, 1)\n",
        "\n",
        "    \n",
        "  accuracy = (predicted == labels).cpu().numpy().mean() * 100\n",
        "\n",
        "  val_accuracy.append(accuracy)\n",
        "\n",
        "val_loss = np.mean(val_loss)\n",
        "val_accuracy = np.mean(val_accuracy)\n",
        "\n",
        "print (val_loss, val_accuracy)\n"
      ]
    }
  ],
  "metadata": {
    "accelerator": "GPU",
    "colab": {
      "collapsed_sections": [],
      "name": "Copy_of_LSTM_Enron_final.ipynb",
      "provenance": [],
      "include_colab_link": true
    },
    "kernelspec": {
      "display_name": "Python 3",
      "name": "python3"
    },
    "language_info": {
      "name": "python"
    }
  },
  "nbformat": 4,
  "nbformat_minor": 0
}