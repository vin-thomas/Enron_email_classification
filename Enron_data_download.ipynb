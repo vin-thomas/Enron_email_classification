{
  "nbformat": 4,
  "nbformat_minor": 0,
  "metadata": {
    "colab": {
      "name": "Enron_data_download.ipynb",
      "provenance": [],
      "collapsed_sections": [],
      "mount_file_id": "1WCQvODYU8SDprOCoH1PnA293kfxMSS-j",
      "authorship_tag": "ABX9TyOKxxJatMKbdDo02N460Sd4",
      "include_colab_link": true
    },
    "kernelspec": {
      "name": "python3",
      "display_name": "Python 3"
    },
    "language_info": {
      "name": "python"
    }
  },
  "cells": [
    {
      "cell_type": "markdown",
      "metadata": {
        "id": "view-in-github",
        "colab_type": "text"
      },
      "source": [
        "<a href=\"https://colab.research.google.com/github/vin-thomas/Enron_email_classification/blob/main/Enron_data_download.ipynb\" target=\"_parent\"><img src=\"https://colab.research.google.com/assets/colab-badge.svg\" alt=\"Open In Colab\"/></a>"
      ]
    },
    {
      "cell_type": "markdown",
      "metadata": {
        "id": "WUx4E-r0DBvl"
      },
      "source": [
        "**1.0 Import**"
      ]
    },
    {
      "cell_type": "code",
      "metadata": {
        "id": "353aMfJgCAxO",
        "colab": {
          "base_uri": "https://localhost:8080/"
        },
        "outputId": "123ccafa-1cb2-4bf4-cb19-72a7803f36d5"
      },
      "source": [
        "import os\n",
        "import numpy as np\n",
        "import pandas as pd\n",
        "import matplotlib.pyplot as plt\n",
        "import nltk\n",
        "import torch\n",
        "import glob\n",
        "from nltk.tokenize import word_tokenize\n",
        "nltk.download('punkt')\n",
        "import tarfile"
      ],
      "execution_count": null,
      "outputs": [
        {
          "output_type": "stream",
          "name": "stdout",
          "text": [
            "[nltk_data] Downloading package punkt to /root/nltk_data...\n",
            "[nltk_data]   Unzipping tokenizers/punkt.zip.\n"
          ]
        }
      ]
    },
    {
      "cell_type": "markdown",
      "metadata": {
        "id": "qxfbdCGBDOZx"
      },
      "source": [
        "**2.0 Download and unzip the dataset**"
      ]
    },
    {
      "cell_type": "code",
      "metadata": {
        "id": "ap3ya7hPDLNg"
      },
      "source": [
        "file = tarfile.open('/content/drive/MyDrive/AIML Labs/@Project/enron_mail_20150507 (1).tar.gz')\n",
        "file.extractall('/content/Data')\n",
        "  \n",
        "file.close()"
      ],
      "execution_count": null,
      "outputs": []
    },
    {
      "cell_type": "markdown",
      "metadata": {
        "id": "vYq62-Ji-rgT"
      },
      "source": [
        "##**3.0 Save Labels and Content to lists**"
      ]
    },
    {
      "cell_type": "code",
      "metadata": {
        "id": "NV5qLqIO6HPX"
      },
      "source": [
        "file_name_iter = glob.iglob('/content/Data/maildir/**/*.*', recursive = True)"
      ],
      "execution_count": null,
      "outputs": []
    },
    {
      "cell_type": "code",
      "metadata": {
        "id": "H60LnL-Q9EOo"
      },
      "source": [
        "def get_content(file):\n",
        "  with open(file, 'rb') as f:\n",
        "    content = f.read()\n",
        "    return content"
      ],
      "execution_count": null,
      "outputs": []
    },
    {
      "cell_type": "code",
      "source": [
        "def get_filename (file_name):\n",
        "  name = file_name.split('/')[-3]\n",
        "  folder = file_name.split('/')[-2]\n",
        "  return name, folder"
      ],
      "metadata": {
        "id": "QPdEvSV-D5na"
      },
      "execution_count": null,
      "outputs": []
    },
    {
      "cell_type": "code",
      "metadata": {
        "id": "uPHkEx6O837A"
      },
      "source": [
        "content = []\n",
        "name = []\n",
        "folder = []\n",
        "\n",
        "for file in file_name_iter:\n",
        "  content.append (get_content(file))\n",
        "  name_, folder_= get_filename(file)\n",
        "  name.append(name_)\n",
        "  folder.append(folder_)"
      ],
      "execution_count": null,
      "outputs": []
    },
    {
      "cell_type": "code",
      "source": [
        "df = pd.DataFrame(zip(content, name, folder), columns=['Raw_Text', 'Name', 'Folder'])"
      ],
      "metadata": {
        "id": "Se-yHF9gJ-2Z"
      },
      "execution_count": null,
      "outputs": []
    },
    {
      "cell_type": "code",
      "source": [
        "df"
      ],
      "metadata": {
        "colab": {
          "base_uri": "https://localhost:8080/",
          "height": 423
        },
        "id": "BOF099XMKJ7f",
        "outputId": "804ffcb4-9dd3-4c72-a9af-3aadc5f07d4e"
      },
      "execution_count": null,
      "outputs": [
        {
          "output_type": "execute_result",
          "data": {
            "text/html": [
              "\n",
              "  <div id=\"df-0cae4b28-5771-43de-8017-980848f481e6\">\n",
              "    <div class=\"colab-df-container\">\n",
              "      <div>\n",
              "<style scoped>\n",
              "    .dataframe tbody tr th:only-of-type {\n",
              "        vertical-align: middle;\n",
              "    }\n",
              "\n",
              "    .dataframe tbody tr th {\n",
              "        vertical-align: top;\n",
              "    }\n",
              "\n",
              "    .dataframe thead th {\n",
              "        text-align: right;\n",
              "    }\n",
              "</style>\n",
              "<table border=\"1\" class=\"dataframe\">\n",
              "  <thead>\n",
              "    <tr style=\"text-align: right;\">\n",
              "      <th></th>\n",
              "      <th>Raw_Text</th>\n",
              "      <th>Name</th>\n",
              "      <th>Folder</th>\n",
              "    </tr>\n",
              "  </thead>\n",
              "  <tbody>\n",
              "    <tr>\n",
              "      <th>0</th>\n",
              "      <td>b'Message-ID: &lt;10114292.1075855758289.JavaMail...</td>\n",
              "      <td>beck-s</td>\n",
              "      <td>2001_plan</td>\n",
              "    </tr>\n",
              "    <tr>\n",
              "      <th>1</th>\n",
              "      <td>b'Message-ID: &lt;17575401.1075855758266.JavaMail...</td>\n",
              "      <td>beck-s</td>\n",
              "      <td>2001_plan</td>\n",
              "    </tr>\n",
              "    <tr>\n",
              "      <th>2</th>\n",
              "      <td>b'Message-ID: &lt;29587860.1075855758380.JavaMail...</td>\n",
              "      <td>beck-s</td>\n",
              "      <td>2001_plan</td>\n",
              "    </tr>\n",
              "    <tr>\n",
              "      <th>3</th>\n",
              "      <td>b'Message-ID: &lt;27456078.1075855758334.JavaMail...</td>\n",
              "      <td>beck-s</td>\n",
              "      <td>2001_plan</td>\n",
              "    </tr>\n",
              "    <tr>\n",
              "      <th>4</th>\n",
              "      <td>b'Message-ID: &lt;13765326.1075855758356.JavaMail...</td>\n",
              "      <td>beck-s</td>\n",
              "      <td>2001_plan</td>\n",
              "    </tr>\n",
              "    <tr>\n",
              "      <th>...</th>\n",
              "      <td>...</td>\n",
              "      <td>...</td>\n",
              "      <td>...</td>\n",
              "    </tr>\n",
              "    <tr>\n",
              "      <th>517396</th>\n",
              "      <td>b'Message-ID: &lt;33001566.1075858797777.JavaMail...</td>\n",
              "      <td>brawner-s</td>\n",
              "      <td>sent_items</td>\n",
              "    </tr>\n",
              "    <tr>\n",
              "      <th>517397</th>\n",
              "      <td>b\"Message-ID: &lt;26600435.1075845089052.JavaMail...</td>\n",
              "      <td>brawner-s</td>\n",
              "      <td>sent_items</td>\n",
              "    </tr>\n",
              "    <tr>\n",
              "      <th>517398</th>\n",
              "      <td>b'Message-ID: &lt;32739949.1075845088817.JavaMail...</td>\n",
              "      <td>brawner-s</td>\n",
              "      <td>sent_items</td>\n",
              "    </tr>\n",
              "    <tr>\n",
              "      <th>517399</th>\n",
              "      <td>b'Message-ID: &lt;10729705.1075862316907.JavaMail...</td>\n",
              "      <td>brawner-s</td>\n",
              "      <td>sent_items</td>\n",
              "    </tr>\n",
              "    <tr>\n",
              "      <th>517400</th>\n",
              "      <td>b'Message-ID: &lt;95279.1075856118304.JavaMail.ev...</td>\n",
              "      <td>brawner-s</td>\n",
              "      <td>john_memos</td>\n",
              "    </tr>\n",
              "  </tbody>\n",
              "</table>\n",
              "<p>517401 rows × 3 columns</p>\n",
              "</div>\n",
              "      <button class=\"colab-df-convert\" onclick=\"convertToInteractive('df-0cae4b28-5771-43de-8017-980848f481e6')\"\n",
              "              title=\"Convert this dataframe to an interactive table.\"\n",
              "              style=\"display:none;\">\n",
              "        \n",
              "  <svg xmlns=\"http://www.w3.org/2000/svg\" height=\"24px\"viewBox=\"0 0 24 24\"\n",
              "       width=\"24px\">\n",
              "    <path d=\"M0 0h24v24H0V0z\" fill=\"none\"/>\n",
              "    <path d=\"M18.56 5.44l.94 2.06.94-2.06 2.06-.94-2.06-.94-.94-2.06-.94 2.06-2.06.94zm-11 1L8.5 8.5l.94-2.06 2.06-.94-2.06-.94L8.5 2.5l-.94 2.06-2.06.94zm10 10l.94 2.06.94-2.06 2.06-.94-2.06-.94-.94-2.06-.94 2.06-2.06.94z\"/><path d=\"M17.41 7.96l-1.37-1.37c-.4-.4-.92-.59-1.43-.59-.52 0-1.04.2-1.43.59L10.3 9.45l-7.72 7.72c-.78.78-.78 2.05 0 2.83L4 21.41c.39.39.9.59 1.41.59.51 0 1.02-.2 1.41-.59l7.78-7.78 2.81-2.81c.8-.78.8-2.07 0-2.86zM5.41 20L4 18.59l7.72-7.72 1.47 1.35L5.41 20z\"/>\n",
              "  </svg>\n",
              "      </button>\n",
              "      \n",
              "  <style>\n",
              "    .colab-df-container {\n",
              "      display:flex;\n",
              "      flex-wrap:wrap;\n",
              "      gap: 12px;\n",
              "    }\n",
              "\n",
              "    .colab-df-convert {\n",
              "      background-color: #E8F0FE;\n",
              "      border: none;\n",
              "      border-radius: 50%;\n",
              "      cursor: pointer;\n",
              "      display: none;\n",
              "      fill: #1967D2;\n",
              "      height: 32px;\n",
              "      padding: 0 0 0 0;\n",
              "      width: 32px;\n",
              "    }\n",
              "\n",
              "    .colab-df-convert:hover {\n",
              "      background-color: #E2EBFA;\n",
              "      box-shadow: 0px 1px 2px rgba(60, 64, 67, 0.3), 0px 1px 3px 1px rgba(60, 64, 67, 0.15);\n",
              "      fill: #174EA6;\n",
              "    }\n",
              "\n",
              "    [theme=dark] .colab-df-convert {\n",
              "      background-color: #3B4455;\n",
              "      fill: #D2E3FC;\n",
              "    }\n",
              "\n",
              "    [theme=dark] .colab-df-convert:hover {\n",
              "      background-color: #434B5C;\n",
              "      box-shadow: 0px 1px 3px 1px rgba(0, 0, 0, 0.15);\n",
              "      filter: drop-shadow(0px 1px 2px rgba(0, 0, 0, 0.3));\n",
              "      fill: #FFFFFF;\n",
              "    }\n",
              "  </style>\n",
              "\n",
              "      <script>\n",
              "        const buttonEl =\n",
              "          document.querySelector('#df-0cae4b28-5771-43de-8017-980848f481e6 button.colab-df-convert');\n",
              "        buttonEl.style.display =\n",
              "          google.colab.kernel.accessAllowed ? 'block' : 'none';\n",
              "\n",
              "        async function convertToInteractive(key) {\n",
              "          const element = document.querySelector('#df-0cae4b28-5771-43de-8017-980848f481e6');\n",
              "          const dataTable =\n",
              "            await google.colab.kernel.invokeFunction('convertToInteractive',\n",
              "                                                     [key], {});\n",
              "          if (!dataTable) return;\n",
              "\n",
              "          const docLinkHtml = 'Like what you see? Visit the ' +\n",
              "            '<a target=\"_blank\" href=https://colab.research.google.com/notebooks/data_table.ipynb>data table notebook</a>'\n",
              "            + ' to learn more about interactive tables.';\n",
              "          element.innerHTML = '';\n",
              "          dataTable['output_type'] = 'display_data';\n",
              "          await google.colab.output.renderOutput(dataTable, element);\n",
              "          const docLink = document.createElement('div');\n",
              "          docLink.innerHTML = docLinkHtml;\n",
              "          element.appendChild(docLink);\n",
              "        }\n",
              "      </script>\n",
              "    </div>\n",
              "  </div>\n",
              "  "
            ],
            "text/plain": [
              "                                                 Raw_Text  ...      Folder\n",
              "0       b'Message-ID: <10114292.1075855758289.JavaMail...  ...   2001_plan\n",
              "1       b'Message-ID: <17575401.1075855758266.JavaMail...  ...   2001_plan\n",
              "2       b'Message-ID: <29587860.1075855758380.JavaMail...  ...   2001_plan\n",
              "3       b'Message-ID: <27456078.1075855758334.JavaMail...  ...   2001_plan\n",
              "4       b'Message-ID: <13765326.1075855758356.JavaMail...  ...   2001_plan\n",
              "...                                                   ...  ...         ...\n",
              "517396  b'Message-ID: <33001566.1075858797777.JavaMail...  ...  sent_items\n",
              "517397  b\"Message-ID: <26600435.1075845089052.JavaMail...  ...  sent_items\n",
              "517398  b'Message-ID: <32739949.1075845088817.JavaMail...  ...  sent_items\n",
              "517399  b'Message-ID: <10729705.1075862316907.JavaMail...  ...  sent_items\n",
              "517400  b'Message-ID: <95279.1075856118304.JavaMail.ev...  ...  john_memos\n",
              "\n",
              "[517401 rows x 3 columns]"
            ]
          },
          "metadata": {},
          "execution_count": 8
        }
      ]
    },
    {
      "cell_type": "code",
      "source": [
        "df.to_csv('/content/drive/MyDrive/AIML Labs/@Project/enron_csv_1')"
      ],
      "metadata": {
        "id": "wZgJZShdKTfP"
      },
      "execution_count": null,
      "outputs": []
    }
  ]
}